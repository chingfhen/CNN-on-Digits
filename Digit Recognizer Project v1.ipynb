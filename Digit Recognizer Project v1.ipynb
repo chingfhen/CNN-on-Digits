{
 "cells": [
  {
   "cell_type": "code",
   "execution_count": 139,
   "metadata": {},
   "outputs": [],
   "source": [
    "# Libraries used\n",
    "import pandas as pd\n",
    "import matplotlib.pyplot as plt \n",
    "from sklearn.model_selection import train_test_split\n",
    "import numpy as np\n",
    "import tensorflow as tf\n",
    "from tensorflow.keras.preprocessing.image import ImageDataGenerator\n",
    "from tensorflow import keras\n",
    "import pickle\n"
   ]
  },
  {
   "cell_type": "markdown",
   "metadata": {},
   "source": [
    "## read data"
   ]
  },
  {
   "cell_type": "code",
   "execution_count": 71,
   "metadata": {},
   "outputs": [
    {
     "data": {
      "text/plain": [
       "'C:\\\\Users\\\\tanch\\\\OneDrive\\\\Documents\\\\Kaggle\\\\digit-recognizer\\\\dataset'"
      ]
     },
     "execution_count": 71,
     "metadata": {},
     "output_type": "execute_result"
    }
   ],
   "source": [
    "# check current Directory\n",
    "import os\n",
    "os.getcwd()"
   ]
  },
  {
   "cell_type": "code",
   "execution_count": 72,
   "metadata": {},
   "outputs": [],
   "source": [
    "# set directory to the folder containing the dataset\n",
    "os.chdir('C:\\\\Users\\\\tanch\\\\OneDrive\\\\Documents\\\\Kaggle\\\\digit-recognizer\\\\dataset')"
   ]
  },
  {
   "cell_type": "code",
   "execution_count": 73,
   "metadata": {},
   "outputs": [],
   "source": [
    "# read the csv as data frame\n",
    "total_training_set = pd.read_csv('train.csv')\n",
    "total_test_set = pd.read_csv('test.csv')"
   ]
  },
  {
   "cell_type": "markdown",
   "metadata": {},
   "source": [
    "## Basic data exploration"
   ]
  },
  {
   "cell_type": "code",
   "execution_count": 74,
   "metadata": {},
   "outputs": [
    {
     "data": {
      "text/html": [
       "<div>\n",
       "<style scoped>\n",
       "    .dataframe tbody tr th:only-of-type {\n",
       "        vertical-align: middle;\n",
       "    }\n",
       "\n",
       "    .dataframe tbody tr th {\n",
       "        vertical-align: top;\n",
       "    }\n",
       "\n",
       "    .dataframe thead th {\n",
       "        text-align: right;\n",
       "    }\n",
       "</style>\n",
       "<table border=\"1\" class=\"dataframe\">\n",
       "  <thead>\n",
       "    <tr style=\"text-align: right;\">\n",
       "      <th></th>\n",
       "      <th>label</th>\n",
       "      <th>pixel0</th>\n",
       "      <th>pixel1</th>\n",
       "      <th>pixel2</th>\n",
       "      <th>pixel3</th>\n",
       "      <th>pixel4</th>\n",
       "      <th>pixel5</th>\n",
       "      <th>pixel6</th>\n",
       "      <th>pixel7</th>\n",
       "      <th>pixel8</th>\n",
       "      <th>...</th>\n",
       "      <th>pixel774</th>\n",
       "      <th>pixel775</th>\n",
       "      <th>pixel776</th>\n",
       "      <th>pixel777</th>\n",
       "      <th>pixel778</th>\n",
       "      <th>pixel779</th>\n",
       "      <th>pixel780</th>\n",
       "      <th>pixel781</th>\n",
       "      <th>pixel782</th>\n",
       "      <th>pixel783</th>\n",
       "    </tr>\n",
       "  </thead>\n",
       "  <tbody>\n",
       "    <tr>\n",
       "      <th>0</th>\n",
       "      <td>1</td>\n",
       "      <td>0</td>\n",
       "      <td>0</td>\n",
       "      <td>0</td>\n",
       "      <td>0</td>\n",
       "      <td>0</td>\n",
       "      <td>0</td>\n",
       "      <td>0</td>\n",
       "      <td>0</td>\n",
       "      <td>0</td>\n",
       "      <td>...</td>\n",
       "      <td>0</td>\n",
       "      <td>0</td>\n",
       "      <td>0</td>\n",
       "      <td>0</td>\n",
       "      <td>0</td>\n",
       "      <td>0</td>\n",
       "      <td>0</td>\n",
       "      <td>0</td>\n",
       "      <td>0</td>\n",
       "      <td>0</td>\n",
       "    </tr>\n",
       "    <tr>\n",
       "      <th>1</th>\n",
       "      <td>0</td>\n",
       "      <td>0</td>\n",
       "      <td>0</td>\n",
       "      <td>0</td>\n",
       "      <td>0</td>\n",
       "      <td>0</td>\n",
       "      <td>0</td>\n",
       "      <td>0</td>\n",
       "      <td>0</td>\n",
       "      <td>0</td>\n",
       "      <td>...</td>\n",
       "      <td>0</td>\n",
       "      <td>0</td>\n",
       "      <td>0</td>\n",
       "      <td>0</td>\n",
       "      <td>0</td>\n",
       "      <td>0</td>\n",
       "      <td>0</td>\n",
       "      <td>0</td>\n",
       "      <td>0</td>\n",
       "      <td>0</td>\n",
       "    </tr>\n",
       "    <tr>\n",
       "      <th>2</th>\n",
       "      <td>1</td>\n",
       "      <td>0</td>\n",
       "      <td>0</td>\n",
       "      <td>0</td>\n",
       "      <td>0</td>\n",
       "      <td>0</td>\n",
       "      <td>0</td>\n",
       "      <td>0</td>\n",
       "      <td>0</td>\n",
       "      <td>0</td>\n",
       "      <td>...</td>\n",
       "      <td>0</td>\n",
       "      <td>0</td>\n",
       "      <td>0</td>\n",
       "      <td>0</td>\n",
       "      <td>0</td>\n",
       "      <td>0</td>\n",
       "      <td>0</td>\n",
       "      <td>0</td>\n",
       "      <td>0</td>\n",
       "      <td>0</td>\n",
       "    </tr>\n",
       "    <tr>\n",
       "      <th>3</th>\n",
       "      <td>4</td>\n",
       "      <td>0</td>\n",
       "      <td>0</td>\n",
       "      <td>0</td>\n",
       "      <td>0</td>\n",
       "      <td>0</td>\n",
       "      <td>0</td>\n",
       "      <td>0</td>\n",
       "      <td>0</td>\n",
       "      <td>0</td>\n",
       "      <td>...</td>\n",
       "      <td>0</td>\n",
       "      <td>0</td>\n",
       "      <td>0</td>\n",
       "      <td>0</td>\n",
       "      <td>0</td>\n",
       "      <td>0</td>\n",
       "      <td>0</td>\n",
       "      <td>0</td>\n",
       "      <td>0</td>\n",
       "      <td>0</td>\n",
       "    </tr>\n",
       "    <tr>\n",
       "      <th>4</th>\n",
       "      <td>0</td>\n",
       "      <td>0</td>\n",
       "      <td>0</td>\n",
       "      <td>0</td>\n",
       "      <td>0</td>\n",
       "      <td>0</td>\n",
       "      <td>0</td>\n",
       "      <td>0</td>\n",
       "      <td>0</td>\n",
       "      <td>0</td>\n",
       "      <td>...</td>\n",
       "      <td>0</td>\n",
       "      <td>0</td>\n",
       "      <td>0</td>\n",
       "      <td>0</td>\n",
       "      <td>0</td>\n",
       "      <td>0</td>\n",
       "      <td>0</td>\n",
       "      <td>0</td>\n",
       "      <td>0</td>\n",
       "      <td>0</td>\n",
       "    </tr>\n",
       "  </tbody>\n",
       "</table>\n",
       "<p>5 rows × 785 columns</p>\n",
       "</div>"
      ],
      "text/plain": [
       "   label  pixel0  pixel1  pixel2  pixel3  pixel4  pixel5  pixel6  pixel7  \\\n",
       "0      1       0       0       0       0       0       0       0       0   \n",
       "1      0       0       0       0       0       0       0       0       0   \n",
       "2      1       0       0       0       0       0       0       0       0   \n",
       "3      4       0       0       0       0       0       0       0       0   \n",
       "4      0       0       0       0       0       0       0       0       0   \n",
       "\n",
       "   pixel8  ...  pixel774  pixel775  pixel776  pixel777  pixel778  pixel779  \\\n",
       "0       0  ...         0         0         0         0         0         0   \n",
       "1       0  ...         0         0         0         0         0         0   \n",
       "2       0  ...         0         0         0         0         0         0   \n",
       "3       0  ...         0         0         0         0         0         0   \n",
       "4       0  ...         0         0         0         0         0         0   \n",
       "\n",
       "   pixel780  pixel781  pixel782  pixel783  \n",
       "0         0         0         0         0  \n",
       "1         0         0         0         0  \n",
       "2         0         0         0         0  \n",
       "3         0         0         0         0  \n",
       "4         0         0         0         0  \n",
       "\n",
       "[5 rows x 785 columns]"
      ]
     },
     "execution_count": 74,
     "metadata": {},
     "output_type": "execute_result"
    }
   ],
   "source": [
    "# first column is the labels\n",
    "total_training_set.head()"
   ]
  },
  {
   "cell_type": "code",
   "execution_count": 75,
   "metadata": {},
   "outputs": [
    {
     "data": {
      "text/html": [
       "<div>\n",
       "<style scoped>\n",
       "    .dataframe tbody tr th:only-of-type {\n",
       "        vertical-align: middle;\n",
       "    }\n",
       "\n",
       "    .dataframe tbody tr th {\n",
       "        vertical-align: top;\n",
       "    }\n",
       "\n",
       "    .dataframe thead th {\n",
       "        text-align: right;\n",
       "    }\n",
       "</style>\n",
       "<table border=\"1\" class=\"dataframe\">\n",
       "  <thead>\n",
       "    <tr style=\"text-align: right;\">\n",
       "      <th></th>\n",
       "      <th>pixel0</th>\n",
       "      <th>pixel1</th>\n",
       "      <th>pixel2</th>\n",
       "      <th>pixel3</th>\n",
       "      <th>pixel4</th>\n",
       "      <th>pixel5</th>\n",
       "      <th>pixel6</th>\n",
       "      <th>pixel7</th>\n",
       "      <th>pixel8</th>\n",
       "      <th>pixel9</th>\n",
       "      <th>...</th>\n",
       "      <th>pixel774</th>\n",
       "      <th>pixel775</th>\n",
       "      <th>pixel776</th>\n",
       "      <th>pixel777</th>\n",
       "      <th>pixel778</th>\n",
       "      <th>pixel779</th>\n",
       "      <th>pixel780</th>\n",
       "      <th>pixel781</th>\n",
       "      <th>pixel782</th>\n",
       "      <th>pixel783</th>\n",
       "    </tr>\n",
       "  </thead>\n",
       "  <tbody>\n",
       "    <tr>\n",
       "      <th>0</th>\n",
       "      <td>0</td>\n",
       "      <td>0</td>\n",
       "      <td>0</td>\n",
       "      <td>0</td>\n",
       "      <td>0</td>\n",
       "      <td>0</td>\n",
       "      <td>0</td>\n",
       "      <td>0</td>\n",
       "      <td>0</td>\n",
       "      <td>0</td>\n",
       "      <td>...</td>\n",
       "      <td>0</td>\n",
       "      <td>0</td>\n",
       "      <td>0</td>\n",
       "      <td>0</td>\n",
       "      <td>0</td>\n",
       "      <td>0</td>\n",
       "      <td>0</td>\n",
       "      <td>0</td>\n",
       "      <td>0</td>\n",
       "      <td>0</td>\n",
       "    </tr>\n",
       "    <tr>\n",
       "      <th>1</th>\n",
       "      <td>0</td>\n",
       "      <td>0</td>\n",
       "      <td>0</td>\n",
       "      <td>0</td>\n",
       "      <td>0</td>\n",
       "      <td>0</td>\n",
       "      <td>0</td>\n",
       "      <td>0</td>\n",
       "      <td>0</td>\n",
       "      <td>0</td>\n",
       "      <td>...</td>\n",
       "      <td>0</td>\n",
       "      <td>0</td>\n",
       "      <td>0</td>\n",
       "      <td>0</td>\n",
       "      <td>0</td>\n",
       "      <td>0</td>\n",
       "      <td>0</td>\n",
       "      <td>0</td>\n",
       "      <td>0</td>\n",
       "      <td>0</td>\n",
       "    </tr>\n",
       "    <tr>\n",
       "      <th>2</th>\n",
       "      <td>0</td>\n",
       "      <td>0</td>\n",
       "      <td>0</td>\n",
       "      <td>0</td>\n",
       "      <td>0</td>\n",
       "      <td>0</td>\n",
       "      <td>0</td>\n",
       "      <td>0</td>\n",
       "      <td>0</td>\n",
       "      <td>0</td>\n",
       "      <td>...</td>\n",
       "      <td>0</td>\n",
       "      <td>0</td>\n",
       "      <td>0</td>\n",
       "      <td>0</td>\n",
       "      <td>0</td>\n",
       "      <td>0</td>\n",
       "      <td>0</td>\n",
       "      <td>0</td>\n",
       "      <td>0</td>\n",
       "      <td>0</td>\n",
       "    </tr>\n",
       "    <tr>\n",
       "      <th>3</th>\n",
       "      <td>0</td>\n",
       "      <td>0</td>\n",
       "      <td>0</td>\n",
       "      <td>0</td>\n",
       "      <td>0</td>\n",
       "      <td>0</td>\n",
       "      <td>0</td>\n",
       "      <td>0</td>\n",
       "      <td>0</td>\n",
       "      <td>0</td>\n",
       "      <td>...</td>\n",
       "      <td>0</td>\n",
       "      <td>0</td>\n",
       "      <td>0</td>\n",
       "      <td>0</td>\n",
       "      <td>0</td>\n",
       "      <td>0</td>\n",
       "      <td>0</td>\n",
       "      <td>0</td>\n",
       "      <td>0</td>\n",
       "      <td>0</td>\n",
       "    </tr>\n",
       "    <tr>\n",
       "      <th>4</th>\n",
       "      <td>0</td>\n",
       "      <td>0</td>\n",
       "      <td>0</td>\n",
       "      <td>0</td>\n",
       "      <td>0</td>\n",
       "      <td>0</td>\n",
       "      <td>0</td>\n",
       "      <td>0</td>\n",
       "      <td>0</td>\n",
       "      <td>0</td>\n",
       "      <td>...</td>\n",
       "      <td>0</td>\n",
       "      <td>0</td>\n",
       "      <td>0</td>\n",
       "      <td>0</td>\n",
       "      <td>0</td>\n",
       "      <td>0</td>\n",
       "      <td>0</td>\n",
       "      <td>0</td>\n",
       "      <td>0</td>\n",
       "      <td>0</td>\n",
       "    </tr>\n",
       "  </tbody>\n",
       "</table>\n",
       "<p>5 rows × 784 columns</p>\n",
       "</div>"
      ],
      "text/plain": [
       "   pixel0  pixel1  pixel2  pixel3  pixel4  pixel5  pixel6  pixel7  pixel8  \\\n",
       "0       0       0       0       0       0       0       0       0       0   \n",
       "1       0       0       0       0       0       0       0       0       0   \n",
       "2       0       0       0       0       0       0       0       0       0   \n",
       "3       0       0       0       0       0       0       0       0       0   \n",
       "4       0       0       0       0       0       0       0       0       0   \n",
       "\n",
       "   pixel9  ...  pixel774  pixel775  pixel776  pixel777  pixel778  pixel779  \\\n",
       "0       0  ...         0         0         0         0         0         0   \n",
       "1       0  ...         0         0         0         0         0         0   \n",
       "2       0  ...         0         0         0         0         0         0   \n",
       "3       0  ...         0         0         0         0         0         0   \n",
       "4       0  ...         0         0         0         0         0         0   \n",
       "\n",
       "   pixel780  pixel781  pixel782  pixel783  \n",
       "0         0         0         0         0  \n",
       "1         0         0         0         0  \n",
       "2         0         0         0         0  \n",
       "3         0         0         0         0  \n",
       "4         0         0         0         0  \n",
       "\n",
       "[5 rows x 784 columns]"
      ]
     },
     "execution_count": 75,
     "metadata": {},
     "output_type": "execute_result"
    }
   ],
   "source": [
    "total_test_set.head()"
   ]
  },
  {
   "cell_type": "code",
   "execution_count": 76,
   "metadata": {},
   "outputs": [],
   "source": [
    "# split predictors from labels \n",
    "y_train_full = total_training_set['label']\n",
    "X_train_full = total_training_set.drop(['label'],axis=1)"
   ]
  },
  {
   "cell_type": "code",
   "execution_count": 77,
   "metadata": {},
   "outputs": [
    {
     "name": "stdout",
     "output_type": "stream",
     "text": [
      "Training set has 42000 images with 784 pixels.\n",
      "Test set has 28000 images with 784 pixels.\n"
     ]
    }
   ],
   "source": [
    "print('Training set has {} images with {} pixels.'.format(X_train_full.shape[0],X_train_full.shape[1]))\n",
    "print('Test set has {} images with {} pixels.'.format(total_test_set.shape[0],total_test_set.shape[1]))"
   ]
  },
  {
   "cell_type": "code",
   "execution_count": 78,
   "metadata": {},
   "outputs": [
    {
     "name": "stdout",
     "output_type": "stream",
     "text": [
      "Row 0 is number 1.\n"
     ]
    },
    {
     "data": {
      "text/plain": [
       "<matplotlib.image.AxesImage at 0x1cdbb78b308>"
      ]
     },
     "execution_count": 78,
     "metadata": {},
     "output_type": "execute_result"
    },
    {
     "data": {
      "image/png": "[encoded data removed]",
      "text/plain": [
       "<Figure size 432x288 with 1 Axes>"
      ]
     },
     "metadata": {
      "needs_background": "light"
     },
     "output_type": "display_data"
    }
   ],
   "source": [
    "# visualise a row to check validity\n",
    "row = 0\n",
    "print('Row {} is number {}.'.format(row,y_train_full[row]))\n",
    "                                 # reshaped each row to 28 x 28 matrix\n",
    "plt.imshow(X_train_full.values.reshape((42000,28,28))[row])"
   ]
  },
  {
   "cell_type": "code",
   "execution_count": 79,
   "metadata": {},
   "outputs": [
    {
     "name": "stdout",
     "output_type": "stream",
     "text": [
      "Row 34 is number 2.\n"
     ]
    },
    {
     "data": {
      "text/plain": [
       "<matplotlib.image.AxesImage at 0x1cdbb8e2788>"
      ]
     },
     "execution_count": 79,
     "metadata": {},
     "output_type": "execute_result"
    },
    {
     "data": {
      "image/png": "[encoded data removed]",
      "text/plain": [
       "<Figure size 432x288 with 1 Axes>"
      ]
     },
     "metadata": {
      "needs_background": "light"
     },
     "output_type": "display_data"
    }
   ],
   "source": [
    "# visualise a row to check validity\n",
    "row = 34\n",
    "print('Row {} is number {}.'.format(row,y_train_full[row]))\n",
    "                            # reshaped each row to 28 x 28 matrix\n",
    "plt.imshow(X_train_full.values.reshape((42000,28,28))[row])"
   ]
  },
  {
   "cell_type": "markdown",
   "metadata": {},
   "source": [
    "# Data Preprocessing"
   ]
  },
  {
   "cell_type": "code",
   "execution_count": 80,
   "metadata": {},
   "outputs": [],
   "source": [
    "# reshape data to 28 x 28 x 1 dimension, required by the CNN model\n",
    "                        # .values turns data frame to a matrix\n",
    "X_train_full= X_train_full.values.reshape((42000,28,28,1))\n",
    "X_test= total_test_set.values.reshape((28000,28,28,1))"
   ]
  },
  {
   "cell_type": "code",
   "execution_count": 81,
   "metadata": {},
   "outputs": [],
   "source": [
    "# convert pixels to float values within [0,1] \n",
    "X_train_full=X_train_full/255.\n",
    "X_test=X_test/255."
   ]
  },
  {
   "cell_type": "code",
   "execution_count": 82,
   "metadata": {},
   "outputs": [],
   "source": [
    "# split to training and validation sets using train_test_split function\n",
    "X_train, X_valid, y_train, y_valid = train_test_split(X_train_full, y_train_full, test_size=(0.25), random_state=42)"
   ]
  },
  {
   "cell_type": "code",
   "execution_count": 83,
   "metadata": {},
   "outputs": [
    {
     "data": {
      "text/plain": [
       "((31500, 28, 28, 1), (10500, 28, 28, 1), (31500,), (10500,))"
      ]
     },
     "execution_count": 83,
     "metadata": {},
     "output_type": "execute_result"
    }
   ],
   "source": [
    "X_train.shape, X_valid.shape, y_train.shape, y_valid.shape"
   ]
  },
  {
   "cell_type": "code",
   "execution_count": 84,
   "metadata": {},
   "outputs": [
    {
     "name": "stdout",
     "output_type": "stream",
     "text": [
      "Training set Dimensions: \n",
      "\tX: (31500, 28, 28, 1)\n",
      "\ty: (31500,)\n",
      "Validation set Dimensions: \n",
      "\tX: (10500, 28, 28, 1)\n",
      "\ty: (10500,)\n",
      "Test set Dimensions: \n",
      "\tX: (28000, 28, 28, 1)\n"
     ]
    }
   ],
   "source": [
    "# check dimensions\n",
    "print('Training set Dimensions: \\n\\tX: {}\\n\\ty: {}'.format(X_train.shape,y_train.shape))\n",
    "print('Validation set Dimensions: \\n\\tX: {}\\n\\ty: {}'.format(X_valid.shape,y_valid.shape))\n",
    "print('Test set Dimensions: \\n\\tX: {}'.format(X_test.shape))"
   ]
  },
  {
   "cell_type": "markdown",
   "metadata": {},
   "source": [
    "# Build Convolutional Neural Network"
   ]
  },
  {
   "cell_type": "code",
   "execution_count": 85,
   "metadata": {},
   "outputs": [],
   "source": [
    "# setting seed to make results reproduceable\n",
    "np.random.seed(1)\n",
    "tf.random.set_seed(1)"
   ]
  },
  {
   "cell_type": "code",
   "execution_count": 86,
   "metadata": {},
   "outputs": [],
   "source": [
    "# create ImageDataGenerator that augments image\n",
    "train_datagen = ImageDataGenerator( # the generator can choose any value within these ranges to augment the data\n",
    "                                  rotation_range=40,\n",
    "                                  width_shift_range=0.2,\n",
    "                                  height_shift_range=0.2,\n",
    "                                  shear_range=0.2,\n",
    "                                  zoom_range=0.2,\n",
    "                                  horizontal_flip=True,\n",
    "                                  vertical_flip=True  )\n",
    "                                  \n",
    "\n",
    "# data augmentation NOT required in validation set\n",
    "test_datagen = ImageDataGenerator()\n"
   ]
  },
  {
   "cell_type": "code",
   "execution_count": 87,
   "metadata": {},
   "outputs": [],
   "source": [
    "# generators to feed data into the model\n",
    "train_generator = train_datagen.flow(X_train, y_train,\n",
    "                               # image will be fed in this batch sizes\n",
    "                               batch_size=32)\n",
    "validation_generator = test_datagen.flow(X_valid, y_valid,\n",
    "                               # image will be fed in this batch sizes\n",
    "                               batch_size=32)"
   ]
  },
  {
   "cell_type": "code",
   "execution_count": 98,
   "metadata": {},
   "outputs": [],
   "source": [
    "# create NN object using sequential API\n",
    "model=keras.models.Sequential()\n",
    "\n",
    "# add convolutional layer\n",
    "model.add(keras.layers.Conv2D(filters=32,\n",
    "                              # i.e. filter size\n",
    "                             kernel_size=(3,3),\n",
    "                              # i.e. number of steps each filter takes\n",
    "                             strides=1,\n",
    "                              # this padding ignores input borders\n",
    "                              padding='valid',\n",
    "                              activation='relu',\n",
    "                              # FOR COLORED IMAGES ,28x28x3 instead\n",
    "                              input_shape=(28,28,1)))\n",
    "\n",
    "# max pooling taking max value from 2x2 grid\n",
    "model.add(keras.layers.MaxPooling2D((2,2)))\n",
    "\n",
    "\n",
    "                        # 64 filters of size 3x3  \n",
    "model.add(keras.layers.Conv2D( 64, (3,3), activation='relu',input_shape=(150,150,3)))\n",
    "model.add(keras.layers.MaxPooling2D((2,2)))\n",
    "\n",
    "                        # 128 filters of size 3x3  \n",
    "model.add(keras.layers.Conv2D( 128, (3,3), activation='relu',input_shape=(150,150,3)))\n",
    "model.add(keras.layers.MaxPooling2D((2,2)))\n",
    "\n",
    "\n",
    "# flatten into a single array\n",
    "model.add(keras.layers.Flatten())\n",
    "\n",
    "# in every epoch a percentage of neurons are deactivated to reduce interneuron dependency and overfitting\n",
    "model.add(keras.layers.Dropout(0.4))\n",
    "\n",
    "# add a hidden layer of 300 neurons with relu activation\n",
    "model.add(keras.layers.Dense(300,activation='relu'))\n",
    "# add a hidden layer of 100 neurons with relu activation\n",
    "model.add(keras.layers.Dense(100,activation='relu'))\n",
    "\n",
    "# add output layer of 10 neurons(there are 10 classes) with softmax activation \n",
    "model.add(keras.layers.Dense(10,activation='softmax'))"
   ]
  },
  {
   "cell_type": "code",
   "execution_count": 97,
   "metadata": {},
   "outputs": [
    {
     "name": "stdout",
     "output_type": "stream",
     "text": [
      "Model: \"sequential_6\"\n",
      "_________________________________________________________________\n",
      "Layer (type)                 Output Shape              Param #   \n",
      "=================================================================\n",
      "conv2d_9 (Conv2D)            (None, 26, 26, 32)        320       \n",
      "_________________________________________________________________\n",
      "max_pooling2d_9 (MaxPooling2 (None, 13, 13, 32)        0         \n",
      "_________________________________________________________________\n",
      "conv2d_10 (Conv2D)           (None, 11, 11, 64)        18496     \n",
      "_________________________________________________________________\n",
      "max_pooling2d_10 (MaxPooling (None, 5, 5, 64)          0         \n",
      "_________________________________________________________________\n",
      "flatten_4 (Flatten)          (None, 1600)              0         \n",
      "_________________________________________________________________\n",
      "dropout_3 (Dropout)          (None, 1600)              0         \n",
      "_________________________________________________________________\n",
      "dense_12 (Dense)             (None, 300)               480300    \n",
      "_________________________________________________________________\n",
      "dense_13 (Dense)             (None, 100)               30100     \n",
      "_________________________________________________________________\n",
      "dense_14 (Dense)             (None, 10)                1010      \n",
      "=================================================================\n",
      "Total params: 530,226\n",
      "Trainable params: 530,226\n",
      "Non-trainable params: 0\n",
      "_________________________________________________________________\n"
     ]
    }
   ],
   "source": [
    "model.summary()"
   ]
  },
  {
   "cell_type": "code",
   "execution_count": 99,
   "metadata": {},
   "outputs": [],
   "source": [
    "# setting parameters \n",
    "model.compile(loss='sparse_categorical_crossentropy',\n",
    "              # sgd refers to stochastic gradient descent\n",
    "             optimizer='sgd',\n",
    "             metrics=['accuracy'])"
   ]
  },
  {
   "cell_type": "code",
   "execution_count": 100,
   "metadata": {},
   "outputs": [],
   "source": [
    "# model is saved when validation accuracy does not improve after the patience value\n",
    "checkpoint_cb = keras.callbacks.ModelCheckpoint('CNN_early_stopping_model.h5',save_best_only = True)\n",
    "                                                # if there are no improvements after 10 epochs training stops\n",
    "early_stopping_cb = keras.callbacks.EarlyStopping(patience = 10,\n",
    "                                                 restore_best_weights = True)"
   ]
  },
  {
   "cell_type": "code",
   "execution_count": 101,
   "metadata": {
    "scrolled": true
   },
   "outputs": [
    {
     "name": "stdout",
     "output_type": "stream",
     "text": [
      "Train on 31500 samples, validate on 10500 samples\n",
      "Epoch 1/1000\n",
      "31500/31500 [==============================] - 38s 1ms/sample - loss: 1.7504 - accuracy: 0.4070 - val_loss: 0.5869 - val_accuracy: 0.8203\n",
      "Epoch 2/1000\n",
      "31500/31500 [==============================] - 38s 1ms/sample - loss: 0.5127 - accuracy: 0.8416 - val_loss: 0.3100 - val_accuracy: 0.9060\n",
      "Epoch 3/1000\n",
      "31500/31500 [==============================] - 39s 1ms/sample - loss: 0.3325 - accuracy: 0.8985 - val_loss: 0.2014 - val_accuracy: 0.9372\n",
      "Epoch 4/1000\n",
      "31500/31500 [==============================] - 39s 1ms/sample - loss: 0.2538 - accuracy: 0.9227 - val_loss: 0.1539 - val_accuracy: 0.9520\n",
      "Epoch 5/1000\n",
      "31500/31500 [==============================] - 41s 1ms/sample - loss: 0.2182 - accuracy: 0.9327 - val_loss: 0.1390 - val_accuracy: 0.9576\n",
      "Epoch 6/1000\n",
      "31500/31500 [==============================] - 43s 1ms/sample - loss: 0.1862 - accuracy: 0.9420 - val_loss: 0.1187 - val_accuracy: 0.9618\n",
      "Epoch 7/1000\n",
      "31500/31500 [==============================] - 41s 1ms/sample - loss: 0.1691 - accuracy: 0.9480 - val_loss: 0.1323 - val_accuracy: 0.9582\n",
      "Epoch 8/1000\n",
      "31500/31500 [==============================] - 40s 1ms/sample - loss: 0.1544 - accuracy: 0.9529 - val_loss: 0.1170 - val_accuracy: 0.9615\n",
      "Epoch 9/1000\n",
      "31500/31500 [==============================] - 39s 1ms/sample - loss: 0.1416 - accuracy: 0.9562 - val_loss: 0.0977 - val_accuracy: 0.9702\n",
      "Epoch 10/1000\n",
      "31500/31500 [==============================] - 37s 1ms/sample - loss: 0.1331 - accuracy: 0.9595 - val_loss: 0.0960 - val_accuracy: 0.9709\n",
      "Epoch 11/1000\n",
      "31500/31500 [==============================] - 37s 1ms/sample - loss: 0.1236 - accuracy: 0.9617 - val_loss: 0.0849 - val_accuracy: 0.9744\n",
      "Epoch 12/1000\n",
      "31500/31500 [==============================] - 37s 1ms/sample - loss: 0.1160 - accuracy: 0.9634 - val_loss: 0.0792 - val_accuracy: 0.9748\n",
      "Epoch 13/1000\n",
      "31500/31500 [==============================] - 37s 1ms/sample - loss: 0.1109 - accuracy: 0.9660 - val_loss: 0.0778 - val_accuracy: 0.9764\n",
      "Epoch 14/1000\n",
      "31500/31500 [==============================] - 38s 1ms/sample - loss: 0.1062 - accuracy: 0.9669 - val_loss: 0.0840 - val_accuracy: 0.9738\n",
      "Epoch 15/1000\n",
      "31500/31500 [==============================] - 39s 1ms/sample - loss: 0.1015 - accuracy: 0.9686 - val_loss: 0.0886 - val_accuracy: 0.9733\n",
      "Epoch 16/1000\n",
      "31500/31500 [==============================] - 38s 1ms/sample - loss: 0.0956 - accuracy: 0.9714 - val_loss: 0.0777 - val_accuracy: 0.9753\n",
      "Epoch 17/1000\n",
      "31500/31500 [==============================] - 38s 1ms/sample - loss: 0.0943 - accuracy: 0.9708 - val_loss: 0.0753 - val_accuracy: 0.9762\n",
      "Epoch 18/1000\n",
      "31500/31500 [==============================] - 38s 1ms/sample - loss: 0.0886 - accuracy: 0.9718 - val_loss: 0.0851 - val_accuracy: 0.9750\n",
      "Epoch 19/1000\n",
      "31500/31500 [==============================] - 38s 1ms/sample - loss: 0.0846 - accuracy: 0.9739 - val_loss: 0.0678 - val_accuracy: 0.9789\n",
      "Epoch 20/1000\n",
      "31500/31500 [==============================] - 39s 1ms/sample - loss: 0.0833 - accuracy: 0.9740 - val_loss: 0.0694 - val_accuracy: 0.9782\n",
      "Epoch 21/1000\n",
      "31500/31500 [==============================] - 39s 1ms/sample - loss: 0.0810 - accuracy: 0.9746 - val_loss: 0.0644 - val_accuracy: 0.9805\n",
      "Epoch 22/1000\n",
      "31500/31500 [==============================] - 39s 1ms/sample - loss: 0.0764 - accuracy: 0.9770 - val_loss: 0.0598 - val_accuracy: 0.9823\n",
      "Epoch 23/1000\n",
      "31500/31500 [==============================] - 39s 1ms/sample - loss: 0.0730 - accuracy: 0.9768 - val_loss: 0.0591 - val_accuracy: 0.9830\n",
      "Epoch 24/1000\n",
      "31500/31500 [==============================] - 39s 1ms/sample - loss: 0.0719 - accuracy: 0.9770 - val_loss: 0.0611 - val_accuracy: 0.9810\n",
      "Epoch 25/1000\n",
      "31500/31500 [==============================] - 39s 1ms/sample - loss: 0.0674 - accuracy: 0.9786 - val_loss: 0.0761 - val_accuracy: 0.9775\n",
      "Epoch 26/1000\n",
      "31500/31500 [==============================] - 39s 1ms/sample - loss: 0.0679 - accuracy: 0.9785 - val_loss: 0.0654 - val_accuracy: 0.9802\n",
      "Epoch 27/1000\n",
      "31500/31500 [==============================] - 39s 1ms/sample - loss: 0.0661 - accuracy: 0.9779 - val_loss: 0.0588 - val_accuracy: 0.9824\n",
      "Epoch 28/1000\n",
      "31500/31500 [==============================] - 39s 1ms/sample - loss: 0.0645 - accuracy: 0.9788 - val_loss: 0.0627 - val_accuracy: 0.9810\n",
      "Epoch 29/1000\n",
      "31500/31500 [==============================] - 39s 1ms/sample - loss: 0.0656 - accuracy: 0.9797 - val_loss: 0.0587 - val_accuracy: 0.9830\n",
      "Epoch 30/1000\n",
      "31500/31500 [==============================] - 39s 1ms/sample - loss: 0.0574 - accuracy: 0.9817 - val_loss: 0.0633 - val_accuracy: 0.9815\n",
      "Epoch 31/1000\n",
      "31500/31500 [==============================] - 39s 1ms/sample - loss: 0.0593 - accuracy: 0.9810 - val_loss: 0.0610 - val_accuracy: 0.9829\n",
      "Epoch 32/1000\n",
      "31500/31500 [==============================] - 39s 1ms/sample - loss: 0.0562 - accuracy: 0.9825 - val_loss: 0.0561 - val_accuracy: 0.9830\n",
      "Epoch 33/1000\n",
      "31500/31500 [==============================] - 39s 1ms/sample - loss: 0.0574 - accuracy: 0.9809 - val_loss: 0.0644 - val_accuracy: 0.9809\n",
      "Epoch 34/1000\n",
      "31500/31500 [==============================] - 38s 1ms/sample - loss: 0.0527 - accuracy: 0.9830 - val_loss: 0.0559 - val_accuracy: 0.9830\n",
      "Epoch 35/1000\n",
      "31500/31500 [==============================] - 39s 1ms/sample - loss: 0.0510 - accuracy: 0.9833 - val_loss: 0.0546 - val_accuracy: 0.9846\n",
      "Epoch 36/1000\n",
      "31500/31500 [==============================] - 39s 1ms/sample - loss: 0.0494 - accuracy: 0.9842 - val_loss: 0.0562 - val_accuracy: 0.9832\n",
      "Epoch 37/1000\n",
      "31500/31500 [==============================] - 43s 1ms/sample - loss: 0.0527 - accuracy: 0.9826 - val_loss: 0.0514 - val_accuracy: 0.9851\n",
      "Epoch 38/1000\n",
      "31500/31500 [==============================] - 39s 1ms/sample - loss: 0.0504 - accuracy: 0.9836 - val_loss: 0.0571 - val_accuracy: 0.9830\n",
      "Epoch 39/1000\n",
      "31500/31500 [==============================] - 38s 1ms/sample - loss: 0.0469 - accuracy: 0.9852 - val_loss: 0.0620 - val_accuracy: 0.9821\n",
      "Epoch 40/1000\n",
      "31500/31500 [==============================] - 112s 4ms/sample - loss: 0.0474 - accuracy: 0.9851 - val_loss: 0.0581 - val_accuracy: 0.9829\n",
      "Epoch 41/1000\n",
      "31500/31500 [==============================] - 4004s 127ms/sample - loss: 0.0423 - accuracy: 0.9861 - val_loss: 0.0565 - val_accuracy: 0.9844\n",
      "Epoch 42/1000\n",
      "31500/31500 [==============================] - 29s 915us/sample - loss: 0.0482 - accuracy: 0.9839 - val_loss: 0.0551 - val_accuracy: 0.9844\n",
      "Epoch 43/1000\n",
      "31500/31500 [==============================] - 27s 868us/sample - loss: 0.0442 - accuracy: 0.9861 - val_loss: 0.0584 - val_accuracy: 0.9847\n",
      "Epoch 44/1000\n",
      "31500/31500 [==============================] - 27s 851us/sample - loss: 0.0431 - accuracy: 0.9856 - val_loss: 0.0556 - val_accuracy: 0.9842\n",
      "Epoch 45/1000\n",
      "31500/31500 [==============================] - 27s 857us/sample - loss: 0.0410 - accuracy: 0.9869 - val_loss: 0.0554 - val_accuracy: 0.9856\n",
      "Epoch 46/1000\n",
      "31500/31500 [==============================] - 27s 868us/sample - loss: 0.0426 - accuracy: 0.9855 - val_loss: 0.0533 - val_accuracy: 0.9859\n",
      "Epoch 47/1000\n",
      "31500/31500 [==============================] - 34s 1ms/sample - loss: 0.0409 - accuracy: 0.9864 - val_loss: 0.0554 - val_accuracy: 0.98520409 - accuracy: 0.\n"
     ]
    }
   ],
   "source": [
    "# training the model \n",
    "number_of_epochs = 1000\n",
    "model_history = model.fit(X_train,y_train,\n",
    "                          validation_data=(X_valid,y_valid),\n",
    "                          epochs=number_of_epochs,\n",
    "                          callbacks= [checkpoint_cb, early_stopping_cb])"
   ]
  },
  {
   "cell_type": "code",
   "execution_count": 102,
   "metadata": {
    "scrolled": true
   },
   "outputs": [
    {
     "data": {
      "image/png": "[encoded data removed]",
      "text/plain": [
       "<Figure size 576x360 with 1 Axes>"
      ]
     },
     "metadata": {
      "needs_background": "light"
     },
     "output_type": "display_data"
    }
   ],
   "source": [
    "# visualise the training progression\n",
    "pd.DataFrame(model_history.history).plot(figsize=(8,5))\n",
    "plt.grid(True)\n",
    "plt.gca().set_ylim(0,1)\n",
    "plt.show()"
   ]
  },
  {
   "cell_type": "code",
   "execution_count": 114,
   "metadata": {},
   "outputs": [],
   "source": [
    "with open('trainHistoryDict.pickle', 'wb') as file_pi:\n",
    "    pickle.dump(model_history.history, file_pi)"
   ]
  },
  {
   "cell_type": "markdown",
   "metadata": {},
   "source": [
    "- evidently, there is **very little overfitting** because the difference in train and validation accuracy is little"
   ]
  },
  {
   "cell_type": "markdown",
   "metadata": {},
   "source": [
    "# Make Predictions"
   ]
  },
  {
   "cell_type": "code",
   "execution_count": 118,
   "metadata": {},
   "outputs": [
    {
     "data": {
      "text/html": [
       "<div>\n",
       "<style scoped>\n",
       "    .dataframe tbody tr th:only-of-type {\n",
       "        vertical-align: middle;\n",
       "    }\n",
       "\n",
       "    .dataframe tbody tr th {\n",
       "        vertical-align: top;\n",
       "    }\n",
       "\n",
       "    .dataframe thead th {\n",
       "        text-align: right;\n",
       "    }\n",
       "</style>\n",
       "<table border=\"1\" class=\"dataframe\">\n",
       "  <thead>\n",
       "    <tr style=\"text-align: right;\">\n",
       "      <th></th>\n",
       "      <th>pixel0</th>\n",
       "      <th>pixel1</th>\n",
       "      <th>pixel2</th>\n",
       "      <th>pixel3</th>\n",
       "      <th>pixel4</th>\n",
       "      <th>pixel5</th>\n",
       "      <th>pixel6</th>\n",
       "      <th>pixel7</th>\n",
       "      <th>pixel8</th>\n",
       "      <th>pixel9</th>\n",
       "      <th>...</th>\n",
       "      <th>pixel774</th>\n",
       "      <th>pixel775</th>\n",
       "      <th>pixel776</th>\n",
       "      <th>pixel777</th>\n",
       "      <th>pixel778</th>\n",
       "      <th>pixel779</th>\n",
       "      <th>pixel780</th>\n",
       "      <th>pixel781</th>\n",
       "      <th>pixel782</th>\n",
       "      <th>pixel783</th>\n",
       "    </tr>\n",
       "  </thead>\n",
       "  <tbody>\n",
       "    <tr>\n",
       "      <th>0</th>\n",
       "      <td>0</td>\n",
       "      <td>0</td>\n",
       "      <td>0</td>\n",
       "      <td>0</td>\n",
       "      <td>0</td>\n",
       "      <td>0</td>\n",
       "      <td>0</td>\n",
       "      <td>0</td>\n",
       "      <td>0</td>\n",
       "      <td>0</td>\n",
       "      <td>...</td>\n",
       "      <td>0</td>\n",
       "      <td>0</td>\n",
       "      <td>0</td>\n",
       "      <td>0</td>\n",
       "      <td>0</td>\n",
       "      <td>0</td>\n",
       "      <td>0</td>\n",
       "      <td>0</td>\n",
       "      <td>0</td>\n",
       "      <td>0</td>\n",
       "    </tr>\n",
       "    <tr>\n",
       "      <th>1</th>\n",
       "      <td>0</td>\n",
       "      <td>0</td>\n",
       "      <td>0</td>\n",
       "      <td>0</td>\n",
       "      <td>0</td>\n",
       "      <td>0</td>\n",
       "      <td>0</td>\n",
       "      <td>0</td>\n",
       "      <td>0</td>\n",
       "      <td>0</td>\n",
       "      <td>...</td>\n",
       "      <td>0</td>\n",
       "      <td>0</td>\n",
       "      <td>0</td>\n",
       "      <td>0</td>\n",
       "      <td>0</td>\n",
       "      <td>0</td>\n",
       "      <td>0</td>\n",
       "      <td>0</td>\n",
       "      <td>0</td>\n",
       "      <td>0</td>\n",
       "    </tr>\n",
       "    <tr>\n",
       "      <th>2</th>\n",
       "      <td>0</td>\n",
       "      <td>0</td>\n",
       "      <td>0</td>\n",
       "      <td>0</td>\n",
       "      <td>0</td>\n",
       "      <td>0</td>\n",
       "      <td>0</td>\n",
       "      <td>0</td>\n",
       "      <td>0</td>\n",
       "      <td>0</td>\n",
       "      <td>...</td>\n",
       "      <td>0</td>\n",
       "      <td>0</td>\n",
       "      <td>0</td>\n",
       "      <td>0</td>\n",
       "      <td>0</td>\n",
       "      <td>0</td>\n",
       "      <td>0</td>\n",
       "      <td>0</td>\n",
       "      <td>0</td>\n",
       "      <td>0</td>\n",
       "    </tr>\n",
       "    <tr>\n",
       "      <th>3</th>\n",
       "      <td>0</td>\n",
       "      <td>0</td>\n",
       "      <td>0</td>\n",
       "      <td>0</td>\n",
       "      <td>0</td>\n",
       "      <td>0</td>\n",
       "      <td>0</td>\n",
       "      <td>0</td>\n",
       "      <td>0</td>\n",
       "      <td>0</td>\n",
       "      <td>...</td>\n",
       "      <td>0</td>\n",
       "      <td>0</td>\n",
       "      <td>0</td>\n",
       "      <td>0</td>\n",
       "      <td>0</td>\n",
       "      <td>0</td>\n",
       "      <td>0</td>\n",
       "      <td>0</td>\n",
       "      <td>0</td>\n",
       "      <td>0</td>\n",
       "    </tr>\n",
       "    <tr>\n",
       "      <th>4</th>\n",
       "      <td>0</td>\n",
       "      <td>0</td>\n",
       "      <td>0</td>\n",
       "      <td>0</td>\n",
       "      <td>0</td>\n",
       "      <td>0</td>\n",
       "      <td>0</td>\n",
       "      <td>0</td>\n",
       "      <td>0</td>\n",
       "      <td>0</td>\n",
       "      <td>...</td>\n",
       "      <td>0</td>\n",
       "      <td>0</td>\n",
       "      <td>0</td>\n",
       "      <td>0</td>\n",
       "      <td>0</td>\n",
       "      <td>0</td>\n",
       "      <td>0</td>\n",
       "      <td>0</td>\n",
       "      <td>0</td>\n",
       "      <td>0</td>\n",
       "    </tr>\n",
       "  </tbody>\n",
       "</table>\n",
       "<p>5 rows × 784 columns</p>\n",
       "</div>"
      ],
      "text/plain": [
       "   pixel0  pixel1  pixel2  pixel3  pixel4  pixel5  pixel6  pixel7  pixel8  \\\n",
       "0       0       0       0       0       0       0       0       0       0   \n",
       "1       0       0       0       0       0       0       0       0       0   \n",
       "2       0       0       0       0       0       0       0       0       0   \n",
       "3       0       0       0       0       0       0       0       0       0   \n",
       "4       0       0       0       0       0       0       0       0       0   \n",
       "\n",
       "   pixel9  ...  pixel774  pixel775  pixel776  pixel777  pixel778  pixel779  \\\n",
       "0       0  ...         0         0         0         0         0         0   \n",
       "1       0  ...         0         0         0         0         0         0   \n",
       "2       0  ...         0         0         0         0         0         0   \n",
       "3       0  ...         0         0         0         0         0         0   \n",
       "4       0  ...         0         0         0         0         0         0   \n",
       "\n",
       "   pixel780  pixel781  pixel782  pixel783  \n",
       "0         0         0         0         0  \n",
       "1         0         0         0         0  \n",
       "2         0         0         0         0  \n",
       "3         0         0         0         0  \n",
       "4         0         0         0         0  \n",
       "\n",
       "[5 rows x 784 columns]"
      ]
     },
     "execution_count": 118,
     "metadata": {},
     "output_type": "execute_result"
    }
   ],
   "source": [
    "# the test set\n",
    "total_test_set.head()"
   ]
  },
  {
   "cell_type": "code",
   "execution_count": 119,
   "metadata": {},
   "outputs": [
    {
     "data": {
      "text/plain": [
       "array([2, 0, 9, ..., 3, 9, 2], dtype=int64)"
      ]
     },
     "execution_count": 119,
     "metadata": {},
     "output_type": "execute_result"
    }
   ],
   "source": [
    "# make class predictions\n",
    "y_pred = model.predict_classes(X_test)\n",
    "y_pred"
   ]
  },
  {
   "cell_type": "code",
   "execution_count": 128,
   "metadata": {},
   "outputs": [],
   "source": [
    "# create the output in required format\n",
    "predictions_dict={'ImageId':range(1,28001),'Label':y_pred}\n",
    "output_df = pd.DataFrame(predictions_dict).set_index('ImageId')"
   ]
  },
  {
   "cell_type": "code",
   "execution_count": 136,
   "metadata": {},
   "outputs": [],
   "source": [
    "# set directory and output the predictions\n",
    "os.chdir('C:\\\\Users\\\\tanch\\\\OneDrive\\\\Documents\\\\Kaggle\\\\digit-recognizer')\n",
    "output_df.to_csv('CNN_predictions.csv')"
   ]
  },
  {
   "cell_type": "markdown",
   "metadata": {},
   "source": [
    "# results"
   ]
  },
  {
   "attachments": {
    "v1_score.png": {
     "image/png": "[encoded data removed]"
    }
   },
   "cell_type": "markdown",
   "metadata": {},
   "source": [
    "![v1_score.png](attachment:v1_score.png)"
   ]
  },
  {
   "cell_type": "markdown",
   "metadata": {},
   "source": [
    "- not too bad for first try\n",
    "- ranking is 1725 out of 2900+"
   ]
  },
  {
   "cell_type": "markdown",
   "metadata": {},
   "source": [
    "## reload model and training history in future"
   ]
  },
  {
   "cell_type": "code",
   "execution_count": 137,
   "metadata": {},
   "outputs": [],
   "source": [
    "# # delete model\n",
    "# del model\n",
    "# keras.backend.clear_session()"
   ]
  },
  {
   "cell_type": "code",
   "execution_count": 115,
   "metadata": {},
   "outputs": [],
   "source": [
    "# to load the model and history again\n",
    "# model = keras.models.load_model('CNN_early_stopping_model.h5')\n",
    "# with open('trainHistoryDict.pickle', 'rb') as file_pi:\n",
    "#     new_hist=pickle.load(file_pi, encoding='bytes')"
   ]
  },
  {
   "cell_type": "code",
   "execution_count": null,
   "metadata": {},
   "outputs": [],
   "source": []
  }
 ],
 "metadata": {
  "kernelspec": {
   "display_name": "Python 3",
   "language": "python",
   "name": "python3"
  },
  "language_info": {
   "codemirror_mode": {
    "name": "ipython",
    "version": 3
   },
   "file_extension": ".py",
   "mimetype": "text/x-python",
   "name": "python",
   "nbconvert_exporter": "python",
   "pygments_lexer": "ipython3",
   "version": "3.7.4"
  }
 },
 "nbformat": 4,
 "nbformat_minor": 2
}
